{
 "cells": [
  {
   "cell_type": "code",
   "execution_count": 4,
   "id": "275655f9-1456-49bd-a141-39e66da385ca",
   "metadata": {},
   "outputs": [],
   "source": [
    "# Q1, Create a vehicle class with an init method having instance variables as name_of_vehicle, max_speed and average_of_vehicle.\n",
    "# Answer - \n",
    "class vehicle:\n",
    "    \n",
    "    def __init__(self ,name_of_vehicle , max_speed , average_of_vehicle):\n",
    "        self.name_of_vehicle = name_of_vehicle\n",
    "        self.max_speed = max_speed\n",
    "        self.average_of_vehicle = average_of_vehicle\n",
    "    \n",
    "    def return_vehicle_details(self):\n",
    "        return self.name_of_vehicle , self.max_speed , self.average_of_vehicle"
   ]
  },
  {
   "cell_type": "code",
   "execution_count": 5,
   "id": "18e5eed3-90be-4481-87be-20cc138a1181",
   "metadata": {},
   "outputs": [],
   "source": [
    "details = vehicle(\"Rolls-royce phantom\" , 155 ,70)"
   ]
  },
  {
   "cell_type": "code",
   "execution_count": 6,
   "id": "c73acd14-8107-4047-bc5c-e66d9ced0ce1",
   "metadata": {},
   "outputs": [
    {
     "data": {
      "text/plain": [
       "('Rolls-royce phantom', 155, 70)"
      ]
     },
     "execution_count": 6,
     "metadata": {},
     "output_type": "execute_result"
    }
   ],
   "source": [
    "details.return_vehicle_details()"
   ]
  },
  {
   "cell_type": "code",
   "execution_count": 7,
   "id": "232c096e-952a-4764-8251-8810a34408a0",
   "metadata": {},
   "outputs": [],
   "source": [
    "# Q2,Create a child class car from the vehicle class created in Que 1, which will inherit the vehicle class Create a method named seating_capacity\n",
    "#    which takes capacity as an argument and returns the name of the vehicle and its seating capacity.\n",
    "# Answer -\n",
    "class vehicle:\n",
    "    def __init__(self ,name_of_vehicle , max_speed , average_of_vehicle):\n",
    "        self.name_of_vehicle = name_of_vehicle\n",
    "        self.max_speed = max_speed\n",
    "        self.average_of_vehicle = average_of_vehicle\n",
    "        \n",
    "class car(vehicle):\n",
    "    def seating_capacity(self, capacity):\n",
    "        return f\"{self.name_of_vehicle} has a seating capacity of {capacity}\"\n"
   ]
  },
  {
   "cell_type": "code",
   "execution_count": 8,
   "id": "f9acfe1e-ab50-401e-b0fd-d7a2806efe01",
   "metadata": {},
   "outputs": [],
   "source": [
    "car1 = car(\"Rolls royce phantom\" , 155 , 70)"
   ]
  },
  {
   "cell_type": "code",
   "execution_count": 9,
   "id": "95f12982-1462-410e-ab72-2fb53631780a",
   "metadata": {},
   "outputs": [
    {
     "data": {
      "text/plain": [
       "'Rolls royce phantom has a seating capacity of 5'"
      ]
     },
     "execution_count": 9,
     "metadata": {},
     "output_type": "execute_result"
    }
   ],
   "source": [
    "car1.seating_capacity(5)"
   ]
  },
  {
   "cell_type": "code",
   "execution_count": 3,
   "id": "64e732ac-ce70-459b-906d-caa146154886",
   "metadata": {},
   "outputs": [
    {
     "name": "stdout",
     "output_type": "stream",
     "text": [
      "inside person class\n",
      "Name: Frankley Age: 24\n",
      "inside company class\n",
      "Company name: Google Location: America\n",
      "inside employee class\n",
      "Skills: Machine learning Salary: 600000\n"
     ]
    }
   ],
   "source": [
    "# Q3,What is multiple inheritance? Write a python code to demonstrate multiple inheritance.\n",
    "# Answer - In multiple inheritance , one child class can inherit from multiple parent classes.\n",
    "# code:\n",
    "class person :\n",
    "    def person_info(self, name , age) :\n",
    "        print(\"inside person class\")\n",
    "        print(\"Name:\" , name , \"Age:\" , age)\n",
    "        \n",
    "class company :\n",
    "    def company_info(self, company_name , location):\n",
    "        print(\"inside company class\")\n",
    "        print(\"Company name:\" , company_name , \"Location:\" , location)\n",
    "            \n",
    "class employee(person , company):\n",
    "    def employee_info(self , skills , salary):\n",
    "        print(\"inside employee class\")\n",
    "        print(\"Skills:\", skills , \"Salary:\", salary)\n",
    "\n",
    "emp = employee()\n",
    "\n",
    "emp.person_info(\"Frankley\", 24)\n",
    "emp.company_info(\"Google\" , \"America\")\n",
    "emp.employee_info(\"Machine learning\" , 600000)\n",
    "\n",
    "#In the above code , we created two parent classes Person and Company respectively. Then we create one child called Employee which inherit\n",
    "#from Person and Company classes."
   ]
  },
  {
   "cell_type": "code",
   "execution_count": 6,
   "id": "2fb77fcd-f2b9-4e56-8648-efe63c7c28a4",
   "metadata": {},
   "outputs": [],
   "source": [
    "# Q4, What are getter and setter in python? Create a class and create a getter and a setter method in this class.\n",
    "'''Answer - Getter and Setter are methods used to access and modify the attributes of the class.\n",
    "             getter -  A method that allows you to access an attribute in a given class\n",
    "             setter -  A method that allows you to set or mutate the value of an attribute in a class'''\n",
    "\n",
    "class student :\n",
    "    def __init__(self , name , roll_no , age):\n",
    "        self.name = name \n",
    "        self.__roll_no = roll_no\n",
    "        self.__age = age\n",
    "        \n",
    "    def show(self):\n",
    "        print(\"Student details:\", self.name , self.__roll_no , self.__age)\n",
    "        \n",
    "    def get_roll_no(self):\n",
    "        return self.__roll_no\n",
    "    def set_roll_no(self, number):\n",
    "        if number > 50 :\n",
    "            print(\"Invalid number please set correct roll number\")\n",
    "        else :\n",
    "            self.__roll_no = number\n",
    "    "
   ]
  },
  {
   "cell_type": "code",
   "execution_count": 7,
   "id": "8124ef84-8dbe-471a-a0ef-a1efc8fdebbb",
   "metadata": {},
   "outputs": [],
   "source": [
    "std = student(\"Mishel\" , 21 , 15)"
   ]
  },
  {
   "cell_type": "code",
   "execution_count": 8,
   "id": "63e12abe-ca03-4b18-9598-a8701384f790",
   "metadata": {},
   "outputs": [
    {
     "name": "stdout",
     "output_type": "stream",
     "text": [
      "Student details: Mishel 21 15\n"
     ]
    }
   ],
   "source": [
    "std.show()"
   ]
  },
  {
   "cell_type": "code",
   "execution_count": 9,
   "id": "1f005b1f-9c41-4412-a35c-80077331e9ee",
   "metadata": {},
   "outputs": [
    {
     "name": "stdout",
     "output_type": "stream",
     "text": [
      "Invalid number please set correct roll number\n"
     ]
    }
   ],
   "source": [
    "std.set_roll_no(120)"
   ]
  },
  {
   "cell_type": "code",
   "execution_count": 10,
   "id": "f91682e3-0063-4913-b6e1-ffdc2071d427",
   "metadata": {},
   "outputs": [],
   "source": [
    "std.set_roll_no(34)"
   ]
  },
  {
   "cell_type": "code",
   "execution_count": 11,
   "id": "bef14afe-45c7-4339-8f4c-8823d5945423",
   "metadata": {},
   "outputs": [
    {
     "name": "stdout",
     "output_type": "stream",
     "text": [
      "Student details: Mishel 34 15\n"
     ]
    }
   ],
   "source": [
    "std.show()"
   ]
  },
  {
   "cell_type": "code",
   "execution_count": 12,
   "id": "98f8d797-8e91-48f5-b03f-503df65cdf9b",
   "metadata": {},
   "outputs": [
    {
     "data": {
      "text/plain": [
       "34"
      ]
     },
     "execution_count": 12,
     "metadata": {},
     "output_type": "execute_result"
    }
   ],
   "source": [
    "std.get_roll_no()"
   ]
  },
  {
   "cell_type": "code",
   "execution_count": 13,
   "id": "9e381190-0f03-439f-8619-10d0b0ed89a0",
   "metadata": {},
   "outputs": [
    {
     "name": "stdout",
     "output_type": "stream",
     "text": [
      "Some generic animal sound\n",
      "This is a sound of dog:  Bark\n",
      "This is a sound of cat:  Meow\n"
     ]
    }
   ],
   "source": [
    "# Q5,What is method overriding in python? Write a python code to demonstrate method overriding.\n",
    "# Answer - Method overriding \n",
    "'''Method overriding is an ability that allows a subclass or child class to provide a specific implementation of a method that is\n",
    "already provided by one of its super-classes or parent classes.'''\n",
    "\n",
    "class Animal:\n",
    "    def sound(self):\n",
    "        return \"Some generic animal sound\"\n",
    "\n",
    "class Dog(Animal):\n",
    "    def sound(self):\n",
    "        return \"Bark\"\n",
    "\n",
    "class Cat(Animal):\n",
    "    def sound(self):\n",
    "        return \"Meow\"\n",
    "\n",
    "# Example usage\n",
    "generic_animal = Animal()\n",
    "dog = Dog()\n",
    "cat = Cat()\n",
    "\n",
    "print(generic_animal.sound()) \n",
    "print(\"This is a sound of dog: \",dog.sound())            \n",
    "print(\"This is a sound of cat: \" ,cat.sound())    "
   ]
  },
  {
   "cell_type": "code",
   "execution_count": null,
   "id": "5dad47b0-f5fd-4fd0-8c1e-27c63250f4f2",
   "metadata": {},
   "outputs": [],
   "source": []
  }
 ],
 "metadata": {
  "kernelspec": {
   "display_name": "Python 3 (ipykernel)",
   "language": "python",
   "name": "python3"
  },
  "language_info": {
   "codemirror_mode": {
    "name": "ipython",
    "version": 3
   },
   "file_extension": ".py",
   "mimetype": "text/x-python",
   "name": "python",
   "nbconvert_exporter": "python",
   "pygments_lexer": "ipython3",
   "version": "3.10.8"
  }
 },
 "nbformat": 4,
 "nbformat_minor": 5
}
